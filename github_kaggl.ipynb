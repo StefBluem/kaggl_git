{
 "cells": [
  {
   "cell_type": "code",
   "execution_count": 9,
   "metadata": {},
   "outputs": [
    {
     "name": "stdout",
     "output_type": "stream",
     "text": [
      "999816.5001754436 1124.7684579939005\n"
     ]
    }
   ],
   "source": [
    "import pandas as pd\n",
    "\n",
    "energy_data = pd.read_csv('complete_renewable_energy_dataset.csv')\n",
    "energy_data.head()\n",
    "co2min = energy_data['CO2 Emissions'].min()\n",
    "co2max = energy_data['CO2 Emissions'].max()\n",
    "print(co2max,co2min)"
   ]
  },
  {
   "cell_type": "code",
   "execution_count": null,
   "metadata": {},
   "outputs": [],
   "source": []
  }
 ],
 "metadata": {
  "kernelspec": {
   "display_name": "Python 3",
   "language": "python",
   "name": "python3"
  },
  "language_info": {
   "codemirror_mode": {
    "name": "ipython",
    "version": 3
   },
   "file_extension": ".py",
   "mimetype": "text/x-python",
   "name": "python",
   "nbconvert_exporter": "python",
   "pygments_lexer": "ipython3",
   "version": "3.12.1"
  },
  "orig_nbformat": 4
 },
 "nbformat": 4,
 "nbformat_minor": 2
}
